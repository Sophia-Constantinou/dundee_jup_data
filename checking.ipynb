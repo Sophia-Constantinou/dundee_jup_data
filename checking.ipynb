{
 "cells": [
  {
   "cell_type": "code",
   "execution_count": 10,
   "metadata": {},
   "outputs": [
    {
     "data": {
      "text/html": [
       "<div>\n",
       "<style scoped>\n",
       "    .dataframe tbody tr th:only-of-type {\n",
       "        vertical-align: middle;\n",
       "    }\n",
       "\n",
       "    .dataframe tbody tr th {\n",
       "        vertical-align: top;\n",
       "    }\n",
       "\n",
       "    .dataframe thead th {\n",
       "        text-align: right;\n",
       "    }\n",
       "</style>\n",
       "<table border=\"1\" class=\"dataframe\">\n",
       "  <thead>\n",
       "    <tr style=\"text-align: right;\">\n",
       "      <th></th>\n",
       "      <th>0</th>\n",
       "    </tr>\n",
       "  </thead>\n",
       "  <tbody>\n",
       "    <tr>\n",
       "      <th>0</th>\n",
       "      <td>1syx</td>\n",
       "    </tr>\n",
       "    <tr>\n",
       "      <th>1</th>\n",
       "      <td>3sxu</td>\n",
       "    </tr>\n",
       "    <tr>\n",
       "      <th>2</th>\n",
       "      <td>3f42</td>\n",
       "    </tr>\n",
       "    <tr>\n",
       "      <th>3</th>\n",
       "      <td>2lig</td>\n",
       "    </tr>\n",
       "    <tr>\n",
       "      <th>4</th>\n",
       "      <td>2czv</td>\n",
       "    </tr>\n",
       "    <tr>\n",
       "      <th>...</th>\n",
       "      <td>...</td>\n",
       "    </tr>\n",
       "    <tr>\n",
       "      <th>1145</th>\n",
       "      <td>2izx</td>\n",
       "    </tr>\n",
       "    <tr>\n",
       "      <th>1147</th>\n",
       "      <td>1bx7</td>\n",
       "    </tr>\n",
       "    <tr>\n",
       "      <th>1148</th>\n",
       "      <td>3fau</td>\n",
       "    </tr>\n",
       "    <tr>\n",
       "      <th>1149</th>\n",
       "      <td>1kqp</td>\n",
       "    </tr>\n",
       "    <tr>\n",
       "      <th>1150</th>\n",
       "      <td>2ebs</td>\n",
       "    </tr>\n",
       "  </tbody>\n",
       "</table>\n",
       "<p>893 rows × 1 columns</p>\n",
       "</div>"
      ],
      "text/plain": [
       "         0\n",
       "0     1syx\n",
       "1     3sxu\n",
       "2     3f42\n",
       "3     2lig\n",
       "4     2czv\n",
       "...    ...\n",
       "1145  2izx\n",
       "1147  1bx7\n",
       "1148  3fau\n",
       "1149  1kqp\n",
       "1150  2ebs\n",
       "\n",
       "[893 rows x 1 columns]"
      ]
     },
     "execution_count": 10,
     "metadata": {},
     "output_type": "execute_result"
    }
   ],
   "source": [
    "# AF files:\n",
    "import os\n",
    "import pandas as pd\n",
    "\n",
    "x = pd.read_csv('/Users/Sophia/Dundee/dundee/data/AF/AF_m.csv')\n",
    "\n",
    "# x = x['PDB_ID']\n",
    "x\n",
    "\n",
    "hm = []\n",
    "for i,row in x.iterrows():\n",
    "    pdb = row[1]\n",
    "    un = pdb[:4]\n",
    "    hm.append(un)\n",
    "\n",
    "\n",
    "df = pd.DataFrame(hm)\n",
    "\n",
    "df\n",
    "\n",
    "df = df.drop_duplicates()\n",
    "\n",
    "df"
   ]
  },
  {
   "cell_type": "code",
   "execution_count": 5,
   "metadata": {},
   "outputs": [
    {
     "name": "stdout",
     "output_type": "stream",
     "text": [
      "893\n",
      "893\n",
      "887\n"
     ]
    }
   ],
   "source": [
    "import glob\n",
    "x = glob.glob('/Users/Sophia/Dundee/dundee/data/prointvar_merged/*.csv')\n",
    "# os.chdir('/Users/Sophia/Dundee/dundee/data/prointvar_merged')\n",
    "print(len(x))\n",
    "\n",
    "x_1 = glob.glob('/Users/Sophia/Dundee/dundee/data/prointvar_less/*.csv')\n",
    "\n",
    "print(len(x_1))\n",
    "\n",
    "x_2 = glob.glob('/Users/Sophia/Dundee/dundee/data/prointvar_col_chain/*.csv')\n",
    "\n",
    "print(len(x_2))"
   ]
  },
  {
   "cell_type": "code",
   "execution_count": 15,
   "metadata": {},
   "outputs": [
    {
     "name": "stdout",
     "output_type": "stream",
     "text": [
      "1078\n",
      "1314\n"
     ]
    }
   ],
   "source": [
    "a = glob.glob('/Users/Sophia/Dundee/dundee/data/AF_pro/*.csv')\n",
    "print(len(a))\n",
    "\n",
    "b = glob.glob('/Users/Sophia/Dundee/dundee/data/Pro_final/*.csv')\n",
    "print(len(b))"
   ]
  }
 ],
 "metadata": {
  "kernelspec": {
   "display_name": "Python 3.8.3 ('base')",
   "language": "python",
   "name": "python3"
  },
  "language_info": {
   "codemirror_mode": {
    "name": "ipython",
    "version": 3
   },
   "file_extension": ".py",
   "mimetype": "text/x-python",
   "name": "python",
   "nbconvert_exporter": "python",
   "pygments_lexer": "ipython3",
   "version": "3.8.3"
  },
  "orig_nbformat": 4,
  "vscode": {
   "interpreter": {
    "hash": "27c2c3a016d0d9462be9e043c90d394f7a99c7d13fd0840df4c6855d133148d2"
   }
  }
 },
 "nbformat": 4,
 "nbformat_minor": 2
}
