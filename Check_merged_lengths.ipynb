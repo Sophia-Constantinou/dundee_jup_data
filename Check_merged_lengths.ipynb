{
 "cells": [
  {
   "cell_type": "code",
   "execution_count": 41,
   "metadata": {},
   "outputs": [
    {
     "name": "stdout",
     "output_type": "stream",
     "text": [
      "884\n",
      "883\n",
      "884\n",
      "881\n",
      "877\n",
      "877\n"
     ]
    }
   ],
   "source": [
    "# import os\n",
    "# import glob\n",
    "\n",
    "\n",
    "# os.chdir('/homes/2524591')\n",
    "\n",
    "\n",
    "# dssp = glob.glob('prointvar_db/dssp/*.dssp')\n",
    "# sifts = glob.glob('prointvar_db/sifts/*.xml')\n",
    "\n",
    "# pdb = glob.glob('prointvar_db/pdbx/*.pdb')\n",
    "# mmcif = glob.glob('prointvar_db/pdbx/*.cif')\n",
    "# trial = glob.glob('/homes/2524591/data/del_th/*.csv')\n",
    "\n",
    "# merged = glob.glob('data/prointvar_merged/*.csv')\n",
    "# y = glob.glob('data/prointvar_col/*.csv')\n",
    "\n",
    "# print(len(dssp))\n",
    "# print(len(sifts))\n",
    "\n",
    "\n",
    "# print(len(mmcif))\n",
    "# print(len(pdb))\n",
    "\n",
    "# # print(len(trial))\n",
    "\n",
    "# print(len(merged))\n",
    "# print(len(y))"
   ]
  },
  {
   "cell_type": "code",
   "execution_count": 6,
   "metadata": {},
   "outputs": [
    {
     "name": "stdout",
     "output_type": "stream",
     "text": [
      "1515\n",
      "1151\n",
      "1151\n"
     ]
    }
   ],
   "source": [
    "# Check files\n",
    "import os\n",
    "import glob\n",
    "\n",
    "os.chdir('/Users/Sophia/Dundee/dundee/data/AF/')\n",
    "\n",
    "pdb = glob.glob('AF_pdb_files/*.pdb')\n",
    "lol = glob.glob('AF_dssp_files/*.dssp')\n",
    "hm = glob.glob('AF_merged/*.csv')\n",
    "\n",
    "\n",
    "# x = glob.glob('AF_merged/pdbx/*.cif')\n",
    "\n",
    "\n",
    "\n",
    "print(len(pdb))\n",
    "print(len(lol))\n",
    "print(len(hm))\n",
    "\n",
    "# print(len(x))"
   ]
  },
  {
   "cell_type": "code",
   "execution_count": 27,
   "id": "3bd7ac6f",
   "metadata": {},
   "outputs": [
    {
     "name": "stdout",
     "output_type": "stream",
     "text": [
      "893\n",
      "893\n",
      "893\n",
      "893\n",
      "893\n",
      "889\n",
      "868\n"
     ]
    }
   ],
   "source": [
    "os.chdir('/Users/Sophia/Dundee/dundee/data')\n",
    "# ProIntVar\n",
    "y_1 = glob.glob('pdbx/*.cif')\n",
    "y_2 = glob.glob('dssp/*.dssp')\n",
    "y_3 = glob.glob('sifts/*.xml')\n",
    "\n",
    "print(len(y_1))\n",
    "print(len(y_2))\n",
    "print(len(y_3))\n",
    "x_1 = glob.glob('prointvar_merged/*.csv')\n",
    "x_3 = glob.glob('prointvar_less/*.csv')\n",
    "x_2 = glob.glob('prointvar_col_chain/*.csv')\n",
    "\n",
    "print(len(x_1))\n",
    "print(len(x_3))\n",
    "print(len(x_2)) # some invalid data in chainzz\n",
    "\n",
    "\n",
    "z_1 = glob.glob('AF_Pro/*.csv')\n",
    "print(len(z_1))\n"
   ]
  },
  {
   "cell_type": "code",
   "execution_count": 12,
   "id": "0a4592c7",
   "metadata": {},
   "outputs": [
    {
     "name": "stdout",
     "output_type": "stream",
     "text": [
      "874\n",
      "1111\n",
      "570\n",
      "605\n"
     ]
    }
   ],
   "source": [
    "os.chdir('/Users/Sophia/Dundee/dundee/data')\n",
    "import pandas as pd\n",
    "import glob\n",
    "\n",
    "x_1 = glob.glob('AF_Pro/*.csv')\n",
    "\n",
    "\n",
    "\n",
    "df = pd.DataFrame(id)\n",
    "df = df.drop_duplicates()\n",
    "print(len(df))\n",
    "x_2 = glob.glob('exact_match/*.csv')\n",
    "x_3 = glob.glob('match_trial/*.csv')\n",
    "\n",
    "print(len(x_1))\n",
    "print(len(x_2))\n",
    "print(len(x_3))\n"
   ]
  },
  {
   "cell_type": "code",
   "execution_count": 43,
   "id": "240fd8f2",
   "metadata": {},
   "outputs": [
    {
     "name": "stdout",
     "output_type": "stream",
     "text": [
      "1642\n",
      "893\n",
      "560\n",
      "556\n"
     ]
    },
    {
     "data": {
      "text/html": [
       "<div>\n",
       "<style scoped>\n",
       "    .dataframe tbody tr th:only-of-type {\n",
       "        vertical-align: middle;\n",
       "    }\n",
       "\n",
       "    .dataframe tbody tr th {\n",
       "        vertical-align: top;\n",
       "    }\n",
       "\n",
       "    .dataframe thead th {\n",
       "        text-align: right;\n",
       "    }\n",
       "</style>\n",
       "<table border=\"1\" class=\"dataframe\">\n",
       "  <thead>\n",
       "    <tr style=\"text-align: right;\">\n",
       "      <th></th>\n",
       "      <th>0</th>\n",
       "      <th>_merge</th>\n",
       "    </tr>\n",
       "  </thead>\n",
       "  <tbody>\n",
       "    <tr>\n",
       "      <th>0</th>\n",
       "      <td>2pu9</td>\n",
       "      <td>both</td>\n",
       "    </tr>\n",
       "    <tr>\n",
       "      <th>1</th>\n",
       "      <td>1wny</td>\n",
       "      <td>both</td>\n",
       "    </tr>\n",
       "    <tr>\n",
       "      <th>2</th>\n",
       "      <td>3tg0</td>\n",
       "      <td>both</td>\n",
       "    </tr>\n",
       "    <tr>\n",
       "      <th>3</th>\n",
       "      <td>1nzi</td>\n",
       "      <td>both</td>\n",
       "    </tr>\n",
       "    <tr>\n",
       "      <th>4</th>\n",
       "      <td>1gs9</td>\n",
       "      <td>both</td>\n",
       "    </tr>\n",
       "    <tr>\n",
       "      <th>...</th>\n",
       "      <td>...</td>\n",
       "      <td>...</td>\n",
       "    </tr>\n",
       "    <tr>\n",
       "      <th>888</th>\n",
       "      <td>3ess</td>\n",
       "      <td>right_only</td>\n",
       "    </tr>\n",
       "    <tr>\n",
       "      <th>889</th>\n",
       "      <td>1qmh</td>\n",
       "      <td>right_only</td>\n",
       "    </tr>\n",
       "    <tr>\n",
       "      <th>890</th>\n",
       "      <td>2dew</td>\n",
       "      <td>right_only</td>\n",
       "    </tr>\n",
       "    <tr>\n",
       "      <th>891</th>\n",
       "      <td>1u94</td>\n",
       "      <td>right_only</td>\n",
       "    </tr>\n",
       "    <tr>\n",
       "      <th>892</th>\n",
       "      <td>3fau</td>\n",
       "      <td>right_only</td>\n",
       "    </tr>\n",
       "  </tbody>\n",
       "</table>\n",
       "<p>893 rows × 2 columns</p>\n",
       "</div>"
      ],
      "text/plain": [
       "        0      _merge\n",
       "0    2pu9        both\n",
       "1    1wny        both\n",
       "2    3tg0        both\n",
       "3    1nzi        both\n",
       "4    1gs9        both\n",
       "..    ...         ...\n",
       "888  3ess  right_only\n",
       "889  1qmh  right_only\n",
       "890  2dew  right_only\n",
       "891  1u94  right_only\n",
       "892  3fau  right_only\n",
       "\n",
       "[893 rows x 2 columns]"
      ]
     },
     "execution_count": 43,
     "metadata": {},
     "output_type": "execute_result"
    }
   ],
   "source": [
    "# Find out which pdb id's are not exact\n",
    "import pandas as pd\n",
    "import os\n",
    "import glob\n",
    "os.chdir('/Users/Sophia/Dundee/dundee/data')\n",
    "\n",
    "\n",
    "\n",
    "x_3 = glob.glob('Pro_final/*.csv')\n",
    "lol = []\n",
    "for file in x_3:\n",
    "    pdb = file[10:14]\n",
    "    lol.append(pdb)\n",
    "\n",
    "print(len(x_3))\n",
    "\n",
    "df_2 = pd.DataFrame(lol)\n",
    "df_2 = df_2.drop_duplicates()\n",
    "print(len(df_2))\n",
    "\n",
    "x_2 = glob.glob('match_last/*.csv')\n",
    "print(len(x_2))\n",
    "\n",
    "hm = []\n",
    "for file in x_2:\n",
    "    pdb = file[11:15]\n",
    "    hm.append(pdb)\n",
    "\n",
    "df_1 = pd.DataFrame(hm)\n",
    "df_1 = df_1.drop_duplicates()\n",
    "print(len(df_1))\n",
    "\n",
    "# df_2\n",
    "tot = pd.merge(df_1, df_2, indicator=True, how = 'right')\n",
    "tot.to_csv('/Users/Sophia/Dundee/dundee/assertion_extra.csv')\n",
    "tot"
   ]
  },
  {
   "cell_type": "code",
   "execution_count": 35,
   "metadata": {
    "tags": []
   },
   "outputs": [
    {
     "name": "stdout",
     "output_type": "stream",
     "text": [
      "    PDB_ID _merge\n",
      "0     1rg8   both\n",
      "1     1nh1   both\n",
      "2     2vxn   both\n",
      "3     2ask   both\n",
      "4     2psp   both\n",
      "..     ...    ...\n",
      "878   3bhd   both\n",
      "879   2fyu   both\n",
      "880   1uv7   both\n",
      "881   1g2y   both\n",
      "882   1dzf   both\n",
      "\n",
      "[883 rows x 2 columns]\n"
     ]
    }
   ],
   "source": [
    "# Find which 6 files are missing\n",
    "\n",
    "import os\n",
    "import glob\n",
    "import pandas as pd\n",
    "\n",
    "os.chdir('/homes/2524591/data/prointvar_col')\n",
    "\n",
    "y = glob.glob('*.csv')\n",
    "y_pdb = []\n",
    "for file in y:\n",
    "    pdb = file[:-4]\n",
    "    y_pdb.append(pdb)\n",
    "# print(y_pdb)\n",
    "    \n",
    "\n",
    "# Get pdb_id's from merged file\n",
    "x = pd.read_csv('/homes/2524591/data/merged_final.csv')\n",
    "pdb_id = x.iloc[:, 2]\n",
    "\n",
    "\n",
    "df = pd.DataFrame(pdb_id)\n",
    "df_y = pd.DataFrame(y_pdb)\n",
    "df_y.columns = ['PDB_ID']\n",
    "\n",
    "df_drop = df.drop_duplicates()\n",
    "# print(df_drop, df_y)\n",
    "\n",
    "\n",
    "\n",
    "\n",
    "dupl = df_drop.merge(df_y, how = 'left', indicator= True)\n",
    "# dupl = pd.concat([df_y, df_drop], axis = 1)\n",
    "print(dupl)\n",
    "dupl.to_csv('/homes/2524591/trial.csv')"
   ]
  },
  {
   "cell_type": "code",
   "execution_count": 64,
   "metadata": {},
   "outputs": [
    {
     "name": "stdout",
     "output_type": "stream",
     "text": [
      "877\n",
      "1127\n"
     ]
    }
   ],
   "source": [
    "# Check no. of files - merged, with seq, with AF_pred\n",
    "import os\n",
    "import glob\n",
    "\n",
    "os.chdir('/homes/2524591/data')\n",
    "\n",
    "\n",
    "# All merged files from ProIntVar\n",
    "x = glob.glob('prointvar_col/*.csv')\n",
    "\n",
    "# with AF SS prediction\n",
    "# y = glob.glob('shift_merged/merged_w_AF/*.csv')\n",
    "y = glob.glob('AF_Pro/*.csv')\n",
    "\n",
    "\n",
    "# with Uniprot sequence\n",
    "# z = glob.glob('shift_merged/add_shifted_uni_seq/*.csv')\n",
    "\n",
    "print(len(x))\n",
    "print(len(y))\n",
    "# print(len(z))"
   ]
  },
  {
   "cell_type": "code",
   "execution_count": 19,
   "metadata": {},
   "outputs": [
    {
     "name": "stdout",
     "output_type": "stream",
     "text": [
      "1135\n",
      "1102\n",
      "1348\n",
      "1348\n",
      "1348\n",
      "1536\n",
      "1536\n",
      "1325\n"
     ]
    }
   ],
   "source": [
    "import glob\n",
    "import pandas as pd\n",
    "\n",
    "# AF\n",
    "x_1 = pd.read_csv('/homes/2524591/data/Alphafold/AF_final.csv')\n",
    "df_x_1 = pd.DataFrame(x_1)\n",
    "# AF merged with ProIntVar\n",
    "x = glob.glob('/homes/2524591/data/AF_Pro/*.csv')\n",
    "\n",
    "\n",
    "# JPred\n",
    "y_1 = pd.read_csv('/homes/2524591/data/Jpred/jpred_final.csv')\n",
    "df_y = pd.DataFrame(y_1)\n",
    "\n",
    "y = glob.glob('/homes/2524591/data/JP_shift/J_seq/*.csv')\n",
    "y_2 = glob.glob('/homes/2524591/data/JP_shift/J_ss/*.csv')\n",
    "\n",
    "# Merging JPred seq with ProIntVar-AF - sequence\n",
    "y_3 = glob.glob('/homes/2524591/data/JP_shift/Pro_seq/*.csv')\n",
    "\n",
    "# Add prediction\n",
    "z = glob.glob('/homes/2524591/data/JP_shift/Pro_final/*.csv')\n",
    "\n",
    "z_2 = glob.glob('/homes/2524591/data/JP_shift/merged_jp_shift/*.csv')\n",
    "\n",
    "\n",
    "\n",
    "# Shift some JPred stuff -- final\n",
    "# z_1 = \n",
    "\n",
    "print(len(df_x_1))\n",
    "print(len(x))\n",
    "\n",
    "\n",
    "print(len(df_y))\n",
    "print(len(y))\n",
    "print(len(y_2))\n",
    "\n",
    "print(len(y_3))\n",
    "print(len(z))\n",
    "print(len(z_2))\n",
    "# print(len(y))\n",
    "# print(len(z))"
   ]
  },
  {
   "cell_type": "code",
   "execution_count": 55,
   "id": "25a08e0d",
   "metadata": {},
   "outputs": [
    {
     "name": "stdout",
     "output_type": "stream",
     "text": [
      "1151\n",
      "893\n",
      "873\n"
     ]
    }
   ],
   "source": [
    "import glob\n",
    "import pandas as pd\n",
    "os.chdir('/Users/Sophia/Dundee/dundee/data')\n",
    "\n",
    "# AF\n",
    "x_1 = pd.read_csv('AF_m.csv')\n",
    "df_x_1 = pd.DataFrame(x_1)\n",
    "hm = []\n",
    "for i,row in df_x_1.iterrows():\n",
    "    pdb = row[1][:4]\n",
    "    hm.append(pdb)\n",
    "\n",
    "df = pd.DataFrame(hm)\n",
    "df = df.drop_duplicates()\n",
    "\n",
    "print(len(x_1))\n",
    "print(len(df))\n",
    "\n",
    "# ProIntVar files\n",
    "x_2 = glob.glob('prointvar_col_chain/*.csv')\n",
    "print(len(x_2))\n",
    "\n",
    "# AF merged with ProIntVar\n",
    "x = glob.glob('AF_Pro/*.csv')\n",
    "print(len(x))\n",
    "\n",
    "# # # JPred\n",
    "# y_1 = pd.read_csv('/homes/2524591/data/Jpred/jpred_final.csv')\n",
    "# # df_y = pd.DataFrame(y_1)\n",
    "# print(len(y_1))\n",
    "# y = glob.glob('/homes/2524591/data/JP_shift/J_seq/*.csv')\n",
    "# y_2 = glob.glob('/homes/2524591/data/JP_shift/J_ss/*.csv')\n",
    "# print(len(y))\n",
    "# print(len(y_2))\n",
    "\n",
    "# # Merging JPred seq with ProIntVar-AF - sequence\n",
    "# y_3 = glob.glob('/homes/2524591/data/JP_shift/Pro_seq/*.csv')\n",
    "\n",
    "# # Add prediction\n",
    "# z = glob.glob('/homes/2524591/data/JP_shift/Pro_final/*.csv')\n",
    "\n",
    "# z_2 = glob.glob('/homes/2524591/data/JP_shift/merged_jp_shift/*.csv')"
   ]
  },
  {
   "cell_type": "code",
   "execution_count": 4,
   "id": "d82d56d7",
   "metadata": {},
   "outputs": [
    {
     "name": "stdout",
     "output_type": "stream",
     "text": [
      "1505\n"
     ]
    }
   ],
   "source": [
    "import os\n",
    "import glob\n",
    "os.chdir('/Users/Sophia/Dundee/dundee/data/prointvar_col_chain')\n",
    "x = glob.glob('*.csv')\n",
    "print(len(x))"
   ]
  },
  {
   "cell_type": "code",
   "execution_count": null,
   "id": "d0a59d19",
   "metadata": {},
   "outputs": [],
   "source": []
  },
  {
   "cell_type": "code",
   "execution_count": 20,
   "metadata": {},
   "outputs": [
    {
     "name": "stdout",
     "output_type": "stream",
     "text": [
      "734\n",
      "669\n"
     ]
    }
   ],
   "source": [
    "\n",
    "# AF merged with ProIntVar\n",
    "x = glob.glob('/homes/2524591/data/JP_shift/exact_match/*.csv')\n",
    "y = glob.glob('/homes/2524591/data/JP_shift/exact_trial/*.csv')\n",
    "\n",
    "print(len(x))\n",
    "print(len(y))"
   ]
  },
  {
   "cell_type": "code",
   "execution_count": 37,
   "metadata": {},
   "outputs": [
    {
     "name": "stdout",
     "output_type": "stream",
     "text": [
      "877\n",
      "877\n",
      "1111\n",
      "874\n",
      "1348\n",
      "1235\n"
     ]
    }
   ],
   "source": [
    "# What's going on with prointvar files\n",
    "\n",
    "\n",
    "\n",
    "\n",
    "os.chdir('/Users/Sophia/Dundee/dundee/data/prointvar_merged/prointvar_col_less')\n",
    "x = glob.glob('*.csv')\n",
    "\n",
    "print(len(x))\n",
    "rip = []\n",
    "for file in x:\n",
    "    pdb = file[:4]\n",
    "    rip.append(pdb)\n",
    "df3 = pd.DataFrame(rip)\n",
    "df3 = df3.drop_duplicates()\n",
    "print(len(df3))\n",
    "\n",
    "os.chdir('/Users/Sophia/Dundee/dundee/data/AF_pro')\n",
    "y = glob.glob('*.csv')\n",
    "hm = []\n",
    "for file in y:\n",
    "    pdb = file[:4]\n",
    "    hm.append(pdb)\n",
    "\n",
    "df = pd.DataFrame(hm)\n",
    "df = df.drop_duplicates()\n",
    "print(len(y))\n",
    "print(len(df))\n",
    "\n",
    "os.chdir('/Users/Sophia/Dundee/dundee/data/JP')\n",
    "z = glob.glob('*.csv')\n",
    "lol = []\n",
    "for file in z:\n",
    "    pdb = file[:4]\n",
    "    lol.append(pdb)\n",
    "\n",
    "df2 = pd.DataFrame(lol)\n",
    "df2 = df2.drop_duplicates()\n",
    "\n",
    "print(len(z))\n",
    "print(len(df2))"
   ]
  },
  {
   "cell_type": "code",
   "execution_count": 41,
   "id": "272e5b22",
   "metadata": {},
   "outputs": [],
   "source": [
    "m = pd.merge(df2, df3, indicator=True, how = 'left')\n",
    "m.to_csv('/Users/Sophia/Dundee/dundee/data/tsp.csv')"
   ]
  }
 ],
 "metadata": {
  "kernelspec": {
   "display_name": "Python 3.10.4 ('aug')",
   "language": "python",
   "name": "python3"
  },
  "language_info": {
   "codemirror_mode": {
    "name": "ipython",
    "version": 3
   },
   "file_extension": ".py",
   "mimetype": "text/x-python",
   "name": "python",
   "nbconvert_exporter": "python",
   "pygments_lexer": "ipython3",
   "version": "3.10.4"
  },
  "vscode": {
   "interpreter": {
    "hash": "3b61c7dc87faad7c4f598728d92abe9b4213618116c2ff5e9988f344901c784e"
   }
  }
 },
 "nbformat": 4,
 "nbformat_minor": 5
}
