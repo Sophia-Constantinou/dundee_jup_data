{
 "cells": [
  {
   "cell_type": "markdown",
   "metadata": {},
   "source": [
    "Take from raw files - retr231/training/\n",
    "\n",
    "\n",
    "Has SCOPe ID and secondary structure\n",
    "\n",
    "Convert SCOPeID to PDB and add sequence and secondary structure -- save in one file"
   ]
  },
  {
   "cell_type": "code",
   "execution_count": 1,
   "metadata": {},
   "outputs": [],
   "source": [
    "import os\n",
    "from os import path\n",
    "import pandas as pd\n",
    "import glob\n",
    "import csv"
   ]
  },
  {
   "cell_type": "code",
   "execution_count": 2,
   "metadata": {},
   "outputs": [],
   "source": [
    "# Function to save different versions of the same pdb's:\n",
    "\n",
    "def check_file(filePath):\n",
    "    if path.exists(filePath):\n",
    "        numb = 1\n",
    "        while True:\n",
    "            newPath = \"{0}_{2}{1}\".format(*path.splitext(filePath) + (numb,))\n",
    "            if path.exists(newPath):\n",
    "                numb += 1\n",
    "            else:\n",
    "                return newPath\n",
    "    return filePath"
   ]
  },
  {
   "cell_type": "code",
   "execution_count": 3,
   "metadata": {},
   "outputs": [],
   "source": [
    "os.chdir('/Users/Sophia/Dundee/dundee/retr231/training')\n",
    "\n",
    "# Sequence\n",
    "x = glob.glob('*.fasta')\n",
    "\n",
    "# Prediction\n",
    "# y = glob.glob('*.jnet')\n",
    "\n",
    "for file in x:\n",
    "    scop = file[:-6]\n",
    "    pdb = scop[1:5]\n",
    "    x_1 = open(file, 'r')\n",
    "    x_2 = open(scop + '.jnet', 'r')\n",
    "    a = x_1.read()\n",
    "    b = x_2.read()\n",
    "    \n",
    "    df = pd.DataFrame([x.split(';') for x in a.split('\\n')])\n",
    "    df = df.iloc[:2]\n",
    "    df2 = pd.DataFrame([x.split(';') for x in b.split('\\n')])\n",
    "    df2 = df2.iloc[1]\n",
    "\n",
    "    df_f = pd.concat([df, df2], axis = 1)\n",
    "\n",
    "    df_f['SCOPeID'] = df_f.iloc[0][0][1:]\n",
    "\n",
    "    df_f[0] = df_f[0][1]\n",
    "    df_f[1] = df_f[1][0]\n",
    "    df_f = df_f.drop_duplicates()\n",
    "    df_f[1] = df_f[1][0][9:]\n",
    "    df_f[1]=df_f[1].str.replace(',','')\n",
    "    \n",
    "    df_f.columns = ['J_AA Sequence', 'J_SS', 'SCOPeID']\n",
    "    df_f['PDB_ID'] = pdb\n",
    "    df_f.reindex = ['PDB_ID', 'SCOPeID', 'J_SS', 'J_AA Sequence']\n",
    "\n",
    "    filename = check_file('/Users/Sophia/Dundee/dundee/data/Jpred/jpred/%s.csv' % pdb)\n",
    "    df_f.to_csv(filename)"
   ]
  },
  {
   "cell_type": "code",
   "execution_count": 4,
   "metadata": {},
   "outputs": [
    {
     "name": "stdout",
     "output_type": "stream",
     "text": [
      "     PDB_ID  SCOPeID                                               J_SS  \\\n",
      "0      3sxu  d3sxua_  --EEEEE---------HHHHHHHHHHHHHHHHHH---EEEEE--HH...   \n",
      "1      3f42  d3f42a_  ---HHHHHHHHHHHHHHHHHHHHHHH-EEEEEEE---EEEEEEE--...   \n",
      "2      2lig  d2liga_  ----EEEEH---HHHHHHHHHHHHHHHHHHHHHHHHHHHHHHHHHH...   \n",
      "3      2pu9  d2pu9a_  --HHHHHHHHHHHHHHH---EE---HHHHHHHHHHHHHHHHHH---...   \n",
      "4      1wny  d1wnya_  ---EEEEEEE----------EEEEEEE------H--HEEE------...   \n",
      "...     ...      ...                                                ...   \n",
      "1343   3mqd  d3mqda1  ---EEEEEEEEEE-----HHHHHHHHHH------------------...   \n",
      "1344   4ead  d4eada3  ---EEEEEEE----EEEEE-HHHHHHHHHHH---------------...   \n",
      "1345   1kpt  d1kpta_  -----------------HHHHHHHHH-------------EEEEE--...   \n",
      "1346   1kqp  d1kqpa_  ---HHHHH---------HHHHHHHHHHHHHHHHHH-----EEEE--...   \n",
      "1347   2ebs  d2ebsa1  --EEEE------EEEEEEEE-----EEEEEE---EEEEEE----EE...   \n",
      "\n",
      "                                          J_AA Sequence  \n",
      "0     KNATFYLLDNDTTVDGLSAVEQLVCEIAAERWRSGKRVLIACEDEK...  \n",
      "1     HMDFSQLGGLLDGMKKEFSQLEEKNKDTIHTSKSGGGMVSVSFNGL...  \n",
      "2     MGGLLFSSLQHCQQGFVISNELRQQQSELTSTWDLMLQTRINLSRS...  \n",
      "3     NKTLAAMKNFAEQYAKRTDTYFCSDLSVTAVVIEGLARHKEELGSP...  \n",
      "4     DPSVYVRFPLKEPKKLGLEKASLLIWTTTPWTLPGNVAAAVHPEYT...  \n",
      "...                                                 ...  \n",
      "1343  MRRVVVTGMGIVSSIGSNTEEVTASLREAKSGISRAEEYAELGFRC...  \n",
      "1344  TAMLTKAVYADTEGFVSEMDTRALGMAVVAMGGGRRQASDTIDYSV...  \n",
      "1345  LGINCRGSSQCGLSGGNLMVRIRDQACGNQGQTWCPGERRAKVCGT...  \n",
      "1346  SMQEKIMRELHVKPSIDPKQEIEDRVNFLKQYVKKTGAKGFVLGIS...  \n",
      "1347  YEFKNVAIGGGGYITGIVAHPKTKDLLYARTDIGGAYRWDAGTSKW...  \n",
      "\n",
      "[1348 rows x 4 columns]\n"
     ]
    }
   ],
   "source": [
    "# Merge\n",
    "os.chdir('/Users/Sophia/Dundee/dundee/data/Jpred/jpred')\n",
    "x = glob.glob('*.csv')\n",
    "\n",
    "df = pd.concat(\n",
    "    map(pd.read_csv, [file for file in x]), ignore_index=True)\n",
    "\n",
    "df = df.iloc[:, 1:]\n",
    "df = pd.DataFrame(df)\n",
    "df = df[['PDB_ID', 'SCOPeID', 'J_SS', 'J_AA Sequence']]\n",
    "print(df)\n",
    "df.to_csv('/Users/Sophia/Dundee/dundee/data/Jpred/jpred_final.csv')\n",
    "\n"
   ]
  }
 ],
 "metadata": {
  "kernelspec": {
   "display_name": "Python 3.8.3 ('base')",
   "language": "python",
   "name": "python3"
  },
  "language_info": {
   "codemirror_mode": {
    "name": "ipython",
    "version": 3
   },
   "file_extension": ".py",
   "mimetype": "text/x-python",
   "name": "python",
   "nbconvert_exporter": "python",
   "pygments_lexer": "ipython3",
   "version": "3.8.3"
  },
  "orig_nbformat": 4,
  "vscode": {
   "interpreter": {
    "hash": "27c2c3a016d0d9462be9e043c90d394f7a99c7d13fd0840df4c6855d133148d2"
   }
  }
 },
 "nbformat": 4,
 "nbformat_minor": 2
}
