{
 "cells": [
  {
   "cell_type": "markdown",
   "metadata": {},
   "source": [
    "Once you have Pro_final files (ProIntVar merged with AF and JP):\n",
    "\n",
    "See how many SCOPe need aligning \\\n",
    "Take those that don't and see how many match\n",
    "\n",
    "Try to align the first few residues of those that need aligning \\\n",
    "See how many match\n",
    "\n",
    "Try to shift Jpred (H tag etc) until first residue matches for those that weren't a match before \\\n",
    "See how many match\n",
    "\n",
    "Remove a few rows that aren't matching \\\n",
    "See how many match\n"
   ]
  },
  {
   "cell_type": "code",
   "execution_count": 2,
   "metadata": {},
   "outputs": [],
   "source": [
    "import os\n",
    "import pandas as pd\n",
    "import glob\n"
   ]
  },
  {
   "cell_type": "code",
   "execution_count": 4,
   "metadata": {},
   "outputs": [
    {
     "name": "stdout",
     "output_type": "stream",
     "text": [
      "857\n",
      "457\n"
     ]
    }
   ],
   "source": [
    "# Map from SCOPe to PDB\n",
    "\n",
    "# First find how many don't match at the beginning\n",
    "\n",
    "os.chdir('/Users/Sophia/Dundee/dundee/data/Pro_final')\n",
    "\n",
    "\n",
    "x = glob.glob('*.csv')\n",
    "a_1 = []\n",
    "a_2 = []\n",
    "b = 0\n",
    "c = 0\n",
    "d = 0\n",
    "\n",
    "\n",
    "for file in x:\n",
    "    pdb = file[:-4]\n",
    "    df = pd.read_csv(file)\n",
    "\n",
    "    # df = df.dropna(axis=0, subset=['Jpred_SS_pred'])\n",
    "    df = df.dropna(axis=0, subset=['AF_predictions'])\n",
    "    df = df.dropna(axis=0, subset = ['SS_CLASS'])\n",
    "    # print(df['Jpred_seq'].iloc[:1], pdb)\n",
    "\n",
    "    # Check if first letter matches\n",
    "    if (df['Jpred_seq'].iloc[:1] == df['UniProt_dbResName'].iloc[:1]).all() == True:\n",
    "        # df = df.dropna(axis=0, subset=['Jpred_SS_pred'])\n",
    "        b += 1\n",
    "        a_1.append(pdb)\n",
    "        df.to_csv(f'/Users/Sophia/Dundee/dundee/data/check_scop/{pdb}.csv')\n",
    "    else:\n",
    "        d += 1\n",
    "        a_2.append(pdb)\n",
    "        df.to_csv(f'/Users/Sophia/Dundee/dundee/data/jp_align/{pdb}.csv')\n",
    "\n",
    "\n",
    "print(b)\n",
    "print(d)\n"
   ]
  },
  {
   "cell_type": "code",
   "execution_count": 3,
   "metadata": {},
   "outputs": [
    {
     "name": "stdout",
     "output_type": "stream",
     "text": [
      "501\n"
     ]
    }
   ],
   "source": [
    "# Find matches\n",
    "\n",
    "\n",
    "# No shifting SCOPe\n",
    "os.chdir('/Users/Sophia/Dundee/dundee/data/check_scop')\n",
    "\n",
    "\n",
    "x = glob.glob('*.csv')\n",
    "b = 0\n",
    "\n",
    "for file in x:\n",
    "    df = pd.read_csv(file)\n",
    "\n",
    "    df = df.dropna(axis=0, subset=['AF_predictions'])\n",
    "    df = df.dropna(axis=0, subset=['Jpred_seq'])\n",
    "    df = df.dropna(axis=0, subset = ['SS_CLASS'])\n",
    "\n",
    "    if (df['Jpred_seq'] == df['UniProt_dbResName']).all() == True and (df['shifted Uni'] == df['UniProt_dbResName']).all() == True:\n",
    "        b += 1\n",
    "        df.to_csv('/Users/Sophia/Dundee/dundee/data/match_1/%s' % file)\n",
    "    # else:\n",
    "\n",
    "        # First 4 residues + previous, unmatched\n",
    "        df.to_csv('/Users/Sophia/Dundee/dundee/data/unmatched_1/%s' % file)\n",
    "\n",
    "print(b)"
   ]
  },
  {
   "cell_type": "code",
   "execution_count": 5,
   "metadata": {},
   "outputs": [
    {
     "name": "stdout",
     "output_type": "stream",
     "text": [
      "501\n",
      "501\n"
     ]
    }
   ],
   "source": [
    "# Unique pdb's\n",
    "os.chdir('/Users/Sophia/Dundee/dundee/data/match_1')\n",
    "\n",
    "x = glob.glob('*.csv')\n",
    "pdb_id = []\n",
    "for file in x:\n",
    "    pdb = file[:4]\n",
    "    pdb_id.append(pdb)\n",
    "\n",
    "print(len(pdb_id))\n",
    "df = pd.DataFrame(pdb_id)\n",
    "df = df.drop_duplicates()\n",
    "print(len(df))"
   ]
  },
  {
   "cell_type": "code",
   "execution_count": 4,
   "metadata": {},
   "outputs": [
    {
     "name": "stdout",
     "output_type": "stream",
     "text": [
      "140\n",
      "317\n"
     ]
    }
   ],
   "source": [
    "#  Write code to align all files\n",
    "\n",
    "os.chdir('/Users/Sophia/Dundee/dundee/data/jp_align')\n",
    "\n",
    "x = glob.glob('*.csv')\n",
    "d = 0\n",
    "e = 0\n",
    "f = 0\n",
    "g = 0\n",
    "l = 0\n",
    "hm = []\n",
    "\n",
    "for file in x:\n",
    "    df = pd.read_csv('/Users/Sophia/Dundee/dundee/data/Pro_final/%s' % file)\n",
    "    mask = ~(df.columns.isin(['Jpred_seq','Jpred_SS_pred']))\n",
    "\n",
    "    cols_to_shift = df.columns[mask]\n",
    "\n",
    "\n",
    "\n",
    "    for i in range(len(df)):\n",
    "        pdb = file[:4]\n",
    "\n",
    "        if df.iloc[0]['Jpred_seq'] != df.iloc[0]['UniProt_dbResName']:\n",
    "            e += 1\n",
    "            # Ignore this line\n",
    "            # df['UniProt_dbResName'] = df['UniProt_dbResName'].shift(-1)\n",
    "            df[cols_to_shift]= df.loc[:,mask].shift(-1)\n",
    "        else:\n",
    "            if df.iloc[1]['Jpred_seq'] != df.iloc[1]['UniProt_dbResName']:\n",
    "                f += 1\n",
    "                df[cols_to_shift]= df.loc[:,mask].shift(-1)\n",
    "                # df['UniProt_dbResName'] = df['UniProt_dbResName'].shift(-1)\n",
    "            else:\n",
    "                if df.iloc[2]['Jpred_seq'] != df.iloc[2]['UniProt_dbResName']:\n",
    "                    g += 1\n",
    "                    # df['UniProt_dbResName'] = df['UniProt_dbResName'].shift(-1)\n",
    "                    df[cols_to_shift]= df.loc[:,mask].shift(-1)\n",
    "\n",
    "                # Try doing one more and the difference in numbers - should have 5 more\n",
    "                else:\n",
    "                    # break\n",
    "                    if df.iloc[3]['Jpred_seq'] != df.iloc[3]['UniProt_dbResName']:\n",
    "                    # g += 1\n",
    "\n",
    "                        df[cols_to_shift]= df.loc[:,mask].shift(-1)\n",
    "                    else:\n",
    "                        break\n",
    "\n",
    "    df = df.dropna(axis=0, subset=['Jpred_seq'])\n",
    "    df = df.dropna(axis=0, subset=['UniProt_dbResName'])\n",
    "\n",
    "    if (df['Jpred_seq'] == df['UniProt_dbResName']).all() == True and len(df) > 0:\n",
    "        l += 1\n",
    "\n",
    "        df.to_csv('/Users/Sophia/Dundee/dundee/data/4/%s' % file)\n",
    "\n",
    "    else:\n",
    "        hm.append(pdb)\n",
    "        if len(df) == 0:\n",
    "            df.to_csv('/Users/Sophia/Dundee/dundee/data/4_empty/%s' % file)\n",
    "        else:\n",
    "            df.to_csv('/Users/Sophia/Dundee/dundee/data/4_unmatched/%s' % file)\n",
    "\n",
    "\n",
    "\n",
    "lol = pd.DataFrame(hm)\n",
    "print(l)\n",
    "\n",
    "\n",
    "print(len(lol))"
   ]
  },
  {
   "cell_type": "code",
   "execution_count": 6,
   "metadata": {},
   "outputs": [
    {
     "name": "stdout",
     "output_type": "stream",
     "text": [
      "128\n"
     ]
    }
   ],
   "source": [
    "# Check matches\n",
    "os.chdir('/Users/Sophia/Dundee/dundee/data/4')\n",
    "\n",
    "x = glob.glob('*.csv')\n",
    "b = 0\n",
    "\n",
    "for file in x:\n",
    "    df = pd.read_csv(file)\n",
    "\n",
    "    df = df.dropna(axis=0, subset=['AF_predictions'])\n",
    "    df = df.dropna(axis=0, subset=['Jpred_seq'])\n",
    "    df = df.dropna(axis=0, subset = ['SS_CLASS'])\n",
    "\n",
    "    if (df['Jpred_seq'] == df['UniProt_dbResName']).all() == True and (df['shifted Uni'] == df['UniProt_dbResName']).all() == True:\n",
    "        b += 1\n",
    "\n",
    "        # kleo\n",
    "        df.to_csv('/Users/Sophia/Dundee/dundee/data/match_2/%s' % file)\n",
    "    else:\n",
    "\n",
    "\n",
    "        # First 4 residues + previous, unmatched\n",
    "        df.to_csv('/Users/Sophia/Dundee/dundee/data/unmatched_2/%s' % file)\n",
    "\n",
    "print(b)\n",
    "\n"
   ]
  },
  {
   "cell_type": "code",
   "execution_count": 7,
   "metadata": {},
   "outputs": [
    {
     "name": "stdout",
     "output_type": "stream",
     "text": [
      "128\n",
      "12\n",
      "23\n",
      "294\n"
     ]
    }
   ],
   "source": [
    "# See how many match - with 4 residues matched\n",
    "\n",
    "os.chdir('/Users/Sophia/Dundee/dundee')\n",
    "\n",
    "y = glob.glob('data/match_2/*.csv')\n",
    "z = glob.glob('data/unmatched_2/*.csv')\n",
    "\n",
    "z_1 = glob.glob('data/4_unmatched/*.csv')\n",
    "z_2 = glob.glob('data/4_empty/*.csv')\n",
    "\n",
    "\n",
    "# print(len(x))\n",
    "print(len(y))\n",
    "print(len(z))\n",
    "\n",
    "\n",
    "print(len(z_1))\n",
    "print(len(z_2))"
   ]
  },
  {
   "cell_type": "code",
   "execution_count": 8,
   "metadata": {},
   "outputs": [
    {
     "name": "stdout",
     "output_type": "stream",
     "text": [
      "12\n",
      "0\n"
     ]
    }
   ],
   "source": [
    "os.chdir('/Users/Sophia/Dundee/dundee/data/unmatched_2')\n",
    "\n",
    "x = glob.glob('*.csv')\n",
    "a = 0\n",
    "h = 0\n",
    "\n",
    "for file in x:\n",
    "    df = pd.read_csv(file)\n",
    "\n",
    "    df = df.dropna(axis=0, subset=['Jpred_seq'])\n",
    "    df = df.dropna(axis=0, subset=['UniProt_dbResName'])\n",
    "    # print(df)\n",
    "\n",
    "    df2 = df[df.Jpred_seq == df.UniProt_dbResName]\n",
    "\n",
    "    if (len(df) - len(df2) < 5):\n",
    "        h += 1\n",
    "        # df2.to_csv('/Users/Sophia/Dundee/tuesday/data/rem/%s' % file)\n",
    "        if (df['Jpred_seq'] == df['UniProt_dbResName']).all() == True and (df['shifted Uni'] == df['UniProt_dbResName']).all() == True:\n",
    "            a += 1\n",
    "            df2.to_csv('/Users/Sophia/Dundee/dundee/data/rem_match/%s' % file)\n",
    "\n",
    "\n",
    "print(h)\n",
    "print(a)\n",
    "\n",
    "# Ok, no difference"
   ]
  },
  {
   "cell_type": "code",
   "execution_count": 10,
   "metadata": {},
   "outputs": [
    {
     "name": "stdout",
     "output_type": "stream",
     "text": [
      "80\n",
      "214\n"
     ]
    }
   ],
   "source": [
    "os.chdir('/Users/Sophia/Dundee/dundee/data/4_empty')\n",
    "\n",
    "hm = []\n",
    "a = 0\n",
    "b = 0\n",
    "\n",
    "z = glob.glob('*.csv')\n",
    "\n",
    "for file in z:\n",
    "    df = pd.read_csv('/Users/Sophia/Dundee/dundee/data/Pro_final/%s' % file)\n",
    "\n",
    "    for i in range(len(df)):\n",
    "\n",
    "        if df.iloc[0]['Jpred_seq'] != df.iloc[0]['UniProt_dbResName']:\n",
    "            df['Jpred_seq'] = df['Jpred_seq'].shift(-1)\n",
    "            # Need to also shift prediction!!!!\n",
    "            df['Jpred_SS_pred'] = df['Jpred_SS_pred'].shift(-1)\n",
    "        else:\n",
    "            break\n",
    "\n",
    "\n",
    "    df = df.dropna(axis=0, subset=['Jpred_seq'])\n",
    "    df = df.dropna(axis=0, subset=['UniProt_dbResName'])\n",
    "    #     break\n",
    "    if (df['Jpred_seq'] == df['UniProt_dbResName']).all() == True and len(df) > 0:\n",
    "        a += 1\n",
    "        df.to_csv('/Users/Sophia/Dundee/dundee/data/jp_shifted/%s' % file)\n",
    "    else:\n",
    "        # print(df)\n",
    "        b += 1\n",
    "        df.to_csv('/Users/Sophia/Dundee/dundee/data/jp_fix/%s' % file)\n",
    "\n",
    "        \n",
    "print(a)\n",
    "print(b)"
   ]
  },
  {
   "cell_type": "code",
   "execution_count": 11,
   "metadata": {},
   "outputs": [
    {
     "name": "stdout",
     "output_type": "stream",
     "text": [
      "71\n"
     ]
    }
   ],
   "source": [
    "# Check matches\n",
    "os.chdir('/Users/Sophia/Dundee/dundee/data/jp_shifted')\n",
    "\n",
    "x = glob.glob('*.csv')\n",
    "b = 0\n",
    "\n",
    "for file in x:\n",
    "    df = pd.read_csv(file)\n",
    "\n",
    "    df = df.dropna(axis=0, subset=['AF_predictions'])\n",
    "    df = df.dropna(axis=0, subset=['Jpred_seq'])\n",
    "    df = df.dropna(axis=0, subset = ['SS_CLASS'])\n",
    "\n",
    "    if (df['Jpred_seq'] == df['UniProt_dbResName']).all() == True and (df['shifted Uni'] == df['UniProt_dbResName']).all() == True:\n",
    "        b += 1\n",
    "\n",
    "        # kleo\n",
    "        df.to_csv('/Users/Sophia/Dundee/dundee/data/match_3/%s' % file)\n",
    "    else:\n",
    "\n",
    "\n",
    "        # First 4 residues + previous, unmatched\n",
    "        df.to_csv('/Users/Sophia/Dundee/dundee/data/unmatched_3/%s' % file)\n",
    "\n",
    "print(b)\n"
   ]
  },
  {
   "cell_type": "code",
   "execution_count": 12,
   "metadata": {},
   "outputs": [
    {
     "name": "stdout",
     "output_type": "stream",
     "text": [
      "71\n",
      "71\n"
     ]
    }
   ],
   "source": [
    "# Unique pdb's\n",
    "os.chdir('/Users/Sophia/Dundee/dundee/data/match_3')\n",
    "\n",
    "x = glob.glob('*.csv')\n",
    "pdb_id = []\n",
    "for file in x:\n",
    "    pdb = file[:4]\n",
    "    pdb_id.append(pdb)\n",
    "\n",
    "print(len(pdb_id))\n",
    "df = pd.DataFrame(pdb_id)\n",
    "df = df.drop_duplicates()\n",
    "print(len(df))"
   ]
  },
  {
   "cell_type": "code",
   "execution_count": 13,
   "metadata": {},
   "outputs": [
    {
     "name": "stdout",
     "output_type": "stream",
     "text": [
      "27\n"
     ]
    }
   ],
   "source": [
    "# Remove up to 2 rows from jp_fix\n",
    "\n",
    "os.chdir('/Users/Sophia/Dundee/dundee/data/jp_fix')\n",
    "\n",
    "x = glob.glob('*.csv')\n",
    "h = 0\n",
    "for file in x:\n",
    "    df = pd.read_csv(file)\n",
    "\n",
    "    df = df.dropna(axis=0, subset=['Jpred_seq'])\n",
    "    df = df.dropna(axis=0, subset=['UniProt_dbResName'])\n",
    "    # print(df)\n",
    "\n",
    "    df2 = df[df.Jpred_seq == df.UniProt_dbResName]\n",
    "\n",
    "    if (len(df) - len(df2) < 3):\n",
    "        h += 1\n",
    "        df2.to_csv('/Users/Sophia/Dundee/dundee/data/fix_rem/%s' % file)\n",
    "\n",
    "\n",
    "print(h)"
   ]
  },
  {
   "cell_type": "code",
   "execution_count": 14,
   "metadata": {},
   "outputs": [
    {
     "name": "stdout",
     "output_type": "stream",
     "text": [
      "27\n"
     ]
    }
   ],
   "source": [
    "# Check matches\n",
    "os.chdir('/Users/Sophia/Dundee/dundee/data/fix_rem')\n",
    "\n",
    "x = glob.glob('*.csv')\n",
    "b = 0\n",
    "\n",
    "for file in x:\n",
    "    df = pd.read_csv(file)\n",
    "\n",
    "    df = df.dropna(axis=0, subset=['AF_predictions'])\n",
    "    df = df.dropna(axis=0, subset=['Jpred_seq'])\n",
    "    df = df.dropna(axis=0, subset = ['SS_CLASS'])\n",
    "\n",
    "    if (df['Jpred_seq'] == df['UniProt_dbResName']).all() == True and (df['shifted Uni'] == df['UniProt_dbResName']).all() == True:\n",
    "        b += 1\n",
    "\n",
    "        # kleo\n",
    "        df.to_csv('/Users/Sophia/Dundee/dundee/data/match_4/%s' % file)\n",
    "    else:\n",
    "\n",
    "\n",
    "        # First 4 residues + previous, unmatched\n",
    "        df.to_csv('/Users/Sophia/Dundee/dundee/data/unmatched_4/%s' % file)\n",
    "\n",
    "print(b)\n"
   ]
  },
  {
   "cell_type": "code",
   "execution_count": 16,
   "metadata": {},
   "outputs": [
    {
     "name": "stdout",
     "output_type": "stream",
     "text": [
      "27\n",
      "10\n"
     ]
    }
   ],
   "source": [
    "# Unique pdb's\n",
    "os.chdir('/Users/Sophia/Dundee/dundee/data/match_4')\n",
    "\n",
    "x = glob.glob('*.csv')\n",
    "pdb_id = []\n",
    "for file in x:\n",
    "    pdb = file[:4]\n",
    "    pdb_id.append(pdb)\n",
    "\n",
    "print(len(pdb_id))\n",
    "df = pd.DataFrame(pdb_id)\n",
    "df = df.drop_duplicates()\n",
    "print(len(df))"
   ]
  },
  {
   "cell_type": "code",
   "execution_count": null,
   "metadata": {},
   "outputs": [],
   "source": []
  }
 ],
 "metadata": {
  "kernelspec": {
   "display_name": "Python 3.8.3 ('base')",
   "language": "python",
   "name": "python3"
  },
  "language_info": {
   "codemirror_mode": {
    "name": "ipython",
    "version": 3
   },
   "file_extension": ".py",
   "mimetype": "text/x-python",
   "name": "python",
   "nbconvert_exporter": "python",
   "pygments_lexer": "ipython3",
   "version": "3.8.3"
  },
  "orig_nbformat": 4,
  "vscode": {
   "interpreter": {
    "hash": "27c2c3a016d0d9462be9e043c90d394f7a99c7d13fd0840df4c6855d133148d2"
   }
  }
 },
 "nbformat": 4,
 "nbformat_minor": 2
}
