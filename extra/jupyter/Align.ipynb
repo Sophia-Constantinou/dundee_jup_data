{
 "cells": [
  {
   "cell_type": "code",
   "execution_count": 1,
   "metadata": {},
   "outputs": [],
   "source": [
    "import os\n",
    "import pandas as pd\n",
    "import glob\n"
   ]
  },
  {
   "cell_type": "code",
   "execution_count": 2,
   "metadata": {},
   "outputs": [
    {
     "name": "stdout",
     "output_type": "stream",
     "text": [
      "857\n",
      "457\n"
     ]
    }
   ],
   "source": [
    "# Map from SCOPe to PDB\n",
    "\n",
    "# First find how many don't match at the beginning\n",
    "\n",
    "os.chdir('/Users/Sophia/Dundee/dundee/data/Pro_final')\n",
    "\n",
    "\n",
    "x = glob.glob('*.csv')\n",
    "a_1 = []\n",
    "a_2 = []\n",
    "b = 0\n",
    "c = 0\n",
    "d = 0\n",
    "\n",
    "\n",
    "for file in x:\n",
    "    pdb = file[:-4]\n",
    "    df = pd.read_csv(file)\n",
    "\n",
    "    # df = df.dropna(axis=0, subset=['Jpred_SS_pred'])\n",
    "    df = df.dropna(axis=0, subset=['AF_predictions'])\n",
    "    df = df.dropna(axis=0, subset = ['SS_CLASS'])\n",
    "    # print(df['Jpred_seq'].iloc[:1], pdb)\n",
    "\n",
    "    # Check if first letter matches\n",
    "    if (df['Jpred_seq'].iloc[:1] == df['UniProt_dbResName'].iloc[:1]).all() == True:\n",
    "        # df = df.dropna(axis=0, subset=['Jpred_SS_pred'])\n",
    "        b += 1\n",
    "        a_1.append(pdb)\n",
    "        df.to_csv(f'/Users/Sophia/Dundee/dundee/data/check_scop/{pdb}.csv')\n",
    "    else:\n",
    "        d += 1\n",
    "        a_2.append(pdb)\n",
    "        df.to_csv(f'/Users/Sophia/Dundee/dundee/data/jp_align/{pdb}.csv')\n",
    "\n",
    "\n",
    "print(b)\n",
    "print(d)\n",
    "\n",
    "# 549 need mapping from SCOPe to PDB"
   ]
  },
  {
   "cell_type": "code",
   "execution_count": null,
   "metadata": {},
   "outputs": [],
   "source": []
  },
  {
   "cell_type": "code",
   "execution_count": null,
   "metadata": {},
   "outputs": [],
   "source": []
  }
 ],
 "metadata": {
  "kernelspec": {
   "display_name": "Python 3.8.3 ('base')",
   "language": "python",
   "name": "python3"
  },
  "language_info": {
   "codemirror_mode": {
    "name": "ipython",
    "version": 3
   },
   "file_extension": ".py",
   "mimetype": "text/x-python",
   "name": "python",
   "nbconvert_exporter": "python",
   "pygments_lexer": "ipython3",
   "version": "3.8.3"
  },
  "orig_nbformat": 4,
  "vscode": {
   "interpreter": {
    "hash": "27c2c3a016d0d9462be9e043c90d394f7a99c7d13fd0840df4c6855d133148d2"
   }
  }
 },
 "nbformat": 4,
 "nbformat_minor": 2
}
